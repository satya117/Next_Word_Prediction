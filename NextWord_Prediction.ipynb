{
 "cells": [
  {
   "cell_type": "markdown",
   "id": "53d8555d",
   "metadata": {},
   "source": [
    "# Next Word Prediction with NLP and Deep Learning"
   ]
  },
  {
   "cell_type": "markdown",
   "id": "8abe9a3c",
   "metadata": {},
   "source": [
    "- The model will consider the last word of a particular sentence and predict the next possible word. \n",
    "- We will be using methods of natural language processing, language modeling, and deep learning. \n",
    "- We will start by analyzing the data followed by the pre-processing of the data. \n",
    "- We will then tokenize this data and finally build the deep learning model. The deep learning model will be built using LSTM’s.\n"
   ]
  },
  {
   "cell_type": "markdown",
   "id": "8ce5b2ff",
   "metadata": {},
   "source": [
    "# Inserting required libraries"
   ]
  },
  {
   "cell_type": "code",
   "execution_count": 1,
   "id": "eaf45dc3",
   "metadata": {},
   "outputs": [],
   "source": [
    "import tensorflow as tf\n",
    "from tensorflow.keras.preprocessing.text import Tokenizer\n",
    "from tensorflow.keras.layers import Embedding, LSTM, Dense\n",
    "from tensorflow.keras.models import Sequential\n",
    "from tensorflow.keras.utils import to_categorical\n",
    "from tensorflow.keras.optimizers import Adam\n",
    "import pickle\n",
    "import numpy as np\n",
    "import os"
   ]
  },
  {
   "cell_type": "markdown",
   "id": "84fc3786",
   "metadata": {},
   "source": [
    "<h3>1.PRE - PROCESSING THE DATASET</h3>"
   ]
  },
  {
   "cell_type": "markdown",
   "id": "6d135632",
   "metadata": {},
   "source": [
    "- Next step of our cleaning process involves replacing all the unnecessary extra new lines, the carriage return, and the Unicode character. \n",
    "- Finally, we will make sure we have only unique words. \n",
    "- We will consider each word only once and remove any additional repetitions. \n",
    "- This will help the model train better avoiding extra confusion due to the repetition of words."
   ]
  },
  {
   "cell_type": "code",
   "execution_count": 3,
   "id": "e73965e8",
   "metadata": {},
   "outputs": [
    {
     "name": "stdout",
     "output_type": "stream",
     "text": [
      "The First Line:  One morning, when Gregor Samsa woke from troubled dreams, he found\n",
      "\n",
      "The Last Line:  first to get up and stretch out her young body.\n"
     ]
    }
   ],
   "source": [
    "file = open(\"metamorphosis_clean.txt\", \"r\", encoding = \"utf8\")\n",
    "lines = []\n",
    "\n",
    "for i in file:\n",
    "    lines.append(i)\n",
    "    \n",
    "print(\"The First Line: \", lines[0])\n",
    "print(\"The Last Line: \", lines[-1])"
   ]
  },
  {
   "cell_type": "markdown",
   "id": "17a77cd8",
   "metadata": {},
   "source": [
    "### Cleaning the data:"
   ]
  },
  {
   "cell_type": "code",
   "execution_count": 4,
   "id": "52836d2e",
   "metadata": {},
   "outputs": [
    {
     "data": {
      "text/plain": [
       "'One morning, when Gregor Samsa woke from troubled dreams, he found himself transformed in his bed into a horrible vermin.  He lay on his armour-like back, and if he lifted his head a little he could see his brown belly, slightly domed and divided by arches into stiff sections.  The bedding was hardly able to cover it and seemed ready to slide off any moment.  His many legs, pitifully thin compared with the size of the rest of him, waved about helplessly as he looked.  \"What\\'s happened to me?\" he'"
      ]
     },
     "execution_count": 4,
     "metadata": {},
     "output_type": "execute_result"
    }
   ],
   "source": [
    "data = \"\"\n",
    "\n",
    "for i in lines:\n",
    "    data = ' '. join(lines)\n",
    "    \n",
    "data = data.replace('\\n', '').replace('\\r', '').replace('\\ufeff', '')\n",
    "\n",
    "#printing the data\n",
    "data[:500]"
   ]
  },
  {
   "cell_type": "code",
   "execution_count": 5,
   "id": "d447825c",
   "metadata": {},
   "outputs": [
    {
     "data": {
      "text/plain": [
       "'One morning  when Gregor Samsa woke from troubled dreams  he found himself transformed in his bed into a horrible vermin   He lay on his armour like back  and if he lifted his head a little he could see his brown belly  slightly domed and divided by arches into stiff sections   The bedding was hardly able to cover it and seemed ready to slide off any moment   His many legs  pitifully thin compared with the size of the rest of him  waved about helplessly as he looked    What s happened to me   he'"
      ]
     },
     "execution_count": 5,
     "metadata": {},
     "output_type": "execute_result"
    }
   ],
   "source": [
    "import string\n",
    "\n",
    "#removes all the punct\n",
    "translator = str.maketrans(string.punctuation, ' '*len(string.punctuation)) #map punctuation to space\n",
    "new_data = data.translate(translator)\n",
    "\n",
    "new_data[:500]"
   ]
  },
  {
   "cell_type": "code",
   "execution_count": 6,
   "id": "4253478a",
   "metadata": {},
   "outputs": [
    {
     "data": {
      "text/plain": [
       "'One morning, when Gregor Samsa woke from troubled dreams, he found himself transformed in his bed into a horrible vermin. He lay on armour-like back, and if lifted head little could see brown belly, slightly domed divided by arches stiff sections. The bedding was hardly able to cover it seemed ready slide off any moment. His many legs, pitifully thin compared with the size of rest him, waved about helplessly as looked. \"What\\'s happened me?\" thought. It wasn\\'t dream. room, proper human room altho'"
      ]
     },
     "execution_count": 6,
     "metadata": {},
     "output_type": "execute_result"
    }
   ],
   "source": [
    "#removes all the repedted words in the sentence\n",
    "z = []\n",
    "\n",
    "for i in data.split():\n",
    "    if i not in z:\n",
    "        z.append(i)\n",
    "        \n",
    "data = ' '.join(z)\n",
    "data[:500]"
   ]
  },
  {
   "cell_type": "markdown",
   "id": "a84757dd",
   "metadata": {},
   "source": [
    "### Tokenization:"
   ]
  },
  {
   "cell_type": "markdown",
   "id": "5da32177",
   "metadata": {},
   "source": [
    "- Tokenization refers to splitting bigger text data, essays, or corpus’s into smaller segments. "
   ]
  },
  {
   "cell_type": "code",
   "execution_count": 7,
   "id": "1602690a",
   "metadata": {},
   "outputs": [
    {
     "data": {
      "text/plain": [
       "[17, 53, 293, 2, 18, 729, 135, 730, 294, 8]"
      ]
     },
     "execution_count": 7,
     "metadata": {},
     "output_type": "execute_result"
    }
   ],
   "source": [
    "tokenizer = Tokenizer()\n",
    "tokenizer.fit_on_texts([data])\n",
    "\n",
    "# saving the tokenizer for predict function.\n",
    "pickle.dump(tokenizer, open('tokenizer1.pkl', 'wb'))\n",
    "\n",
    "sequence_data = tokenizer.texts_to_sequences([data])[0]\n",
    "sequence_data[:10]"
   ]
  },
  {
   "cell_type": "code",
   "execution_count": 8,
   "id": "1618af3d",
   "metadata": {},
   "outputs": [
    {
     "name": "stdout",
     "output_type": "stream",
     "text": [
      "2617\n"
     ]
    }
   ],
   "source": [
    "vocab_size = len(tokenizer.word_index) + 1\n",
    "print(vocab_size)"
   ]
  },
  {
   "cell_type": "code",
   "execution_count": 9,
   "id": "a56f722a",
   "metadata": {},
   "outputs": [
    {
     "name": "stdout",
     "output_type": "stream",
     "text": [
      "The Length of sequences are:  3889\n"
     ]
    },
    {
     "data": {
      "text/plain": [
       "array([[ 17,  53],\n",
       "       [ 53, 293],\n",
       "       [293,   2],\n",
       "       [  2,  18],\n",
       "       [ 18, 729],\n",
       "       [729, 135],\n",
       "       [135, 730],\n",
       "       [730, 294],\n",
       "       [294,   8],\n",
       "       [  8, 731]])"
      ]
     },
     "execution_count": 9,
     "metadata": {},
     "output_type": "execute_result"
    }
   ],
   "source": [
    "sequences = []\n",
    "\n",
    "for i in range(1, len(sequence_data)):\n",
    "    words = sequence_data[i-1:i+1]\n",
    "    sequences.append(words)\n",
    "    \n",
    "print(\"The Length of sequences are: \", len(sequences))\n",
    "sequences = np.array(sequences)\n",
    "sequences[:10]"
   ]
  },
  {
   "cell_type": "code",
   "execution_count": 10,
   "id": "6f1265b3",
   "metadata": {},
   "outputs": [],
   "source": [
    "X = []\n",
    "y = []\n",
    "\n",
    "for i in sequences:\n",
    "    X.append(i[0])\n",
    "    y.append(i[1])\n",
    "    \n",
    "X = np.array(X)\n",
    "y = np.array(y)"
   ]
  },
  {
   "cell_type": "code",
   "execution_count": 11,
   "id": "4144a587",
   "metadata": {},
   "outputs": [
    {
     "name": "stdout",
     "output_type": "stream",
     "text": [
      "The Data is:  [ 17  53 293   2  18]\n",
      "The responses are:  [ 53 293   2  18 729]\n"
     ]
    }
   ],
   "source": [
    "print(\"The Data is: \", X[:5])\n",
    "print(\"The responses are: \", y[:5])"
   ]
  },
  {
   "cell_type": "code",
   "execution_count": 12,
   "id": "1c060241",
   "metadata": {},
   "outputs": [
    {
     "data": {
      "text/plain": [
       "array([[0., 0., 0., ..., 0., 0., 0.],\n",
       "       [0., 0., 0., ..., 0., 0., 0.],\n",
       "       [0., 0., 1., ..., 0., 0., 0.],\n",
       "       [0., 0., 0., ..., 0., 0., 0.],\n",
       "       [0., 0., 0., ..., 0., 0., 0.]], dtype=float32)"
      ]
     },
     "execution_count": 12,
     "metadata": {},
     "output_type": "execute_result"
    }
   ],
   "source": [
    "y = to_categorical(y, num_classes=vocab_size)\n",
    "y[:5]"
   ]
  },
  {
   "cell_type": "markdown",
   "id": "8a4f0916",
   "metadata": {},
   "source": [
    "# CREATING THE MODEL:"
   ]
  },
  {
   "cell_type": "markdown",
   "id": "b4ec953d",
   "metadata": {},
   "source": [
    "- We will be building a sequential model. \n",
    "- We will then create an embedding layer and specify the input dimensions and output dimensions. "
   ]
  },
  {
   "cell_type": "markdown",
   "id": "27d7e4c1",
   "metadata": {},
   "source": [
    "##### An LSTM layer learns long-term dependencies between time steps in time series and sequence data"
   ]
  },
  {
   "cell_type": "code",
   "execution_count": 16,
   "id": "6f3fd7a1",
   "metadata": {},
   "outputs": [],
   "source": [
    "model = Sequential()\n",
    "model.add(Embedding(vocab_size, 10, input_length=1))\n",
    "model.add(LSTM(1000, return_sequences=True))\n",
    "model.add(LSTM(1000))\n",
    "model.add(Dense(1000, activation=\"relu\"))\n",
    "model.add(Dense(vocab_size, activation=\"softmax\"))"
   ]
  },
  {
   "cell_type": "code",
   "execution_count": 17,
   "id": "450181b2",
   "metadata": {},
   "outputs": [
    {
     "name": "stdout",
     "output_type": "stream",
     "text": [
      "Model: \"sequential_1\"\n",
      "_________________________________________________________________\n",
      "Layer (type)                 Output Shape              Param #   \n",
      "=================================================================\n",
      "embedding_1 (Embedding)      (None, 1, 10)             26170     \n",
      "_________________________________________________________________\n",
      "lstm_2 (LSTM)                (None, 1, 1000)           4044000   \n",
      "_________________________________________________________________\n",
      "lstm_3 (LSTM)                (None, 1000)              8004000   \n",
      "_________________________________________________________________\n",
      "dense_2 (Dense)              (None, 1000)              1001000   \n",
      "_________________________________________________________________\n",
      "dense_3 (Dense)              (None, 2617)              2619617   \n",
      "=================================================================\n",
      "Total params: 15,694,787\n",
      "Trainable params: 15,694,787\n",
      "Non-trainable params: 0\n",
      "_________________________________________________________________\n"
     ]
    }
   ],
   "source": [
    "model.summary()"
   ]
  },
  {
   "cell_type": "markdown",
   "id": "04b7389b",
   "metadata": {},
   "source": [
    "<h4>MODEL PLOT</h4>"
   ]
  },
  {
   "cell_type": "code",
   "execution_count": 18,
   "id": "698544ef",
   "metadata": {},
   "outputs": [
    {
     "name": "stdout",
     "output_type": "stream",
     "text": [
      "Requirement already satisfied: pydot in c:\\users\\satya\\anaconda3\\lib\\site-packages (1.4.2)\n",
      "Requirement already satisfied: pyparsing>=2.1.4 in c:\\users\\satya\\anaconda3\\lib\\site-packages (from pydot) (2.4.7)\n"
     ]
    }
   ],
   "source": [
    "!pip install pydot\n"
   ]
  },
  {
   "cell_type": "code",
   "execution_count": 19,
   "id": "84c52aef",
   "metadata": {},
   "outputs": [
    {
     "name": "stdout",
     "output_type": "stream",
     "text": [
      "('You must install pydot (`pip install pydot`) and install graphviz (see instructions at https://graphviz.gitlab.io/download/) ', 'for plot_model/model_to_dot to work.')\n"
     ]
    }
   ],
   "source": [
    "from tensorflow import keras\n",
    "from keras.utils.vis_utils import plot_model\n",
    "\n",
    "keras.utils.plot_model(model, to_file='model.png', show_layer_names=True)"
   ]
  },
  {
   "attachments": {
    "model.png": {
     "image/png": "[encoded data removed]"
    }
   },
   "cell_type": "markdown",
   "id": "220af379",
   "metadata": {},
   "source": [
    "![model.png](attachment:model.png)"
   ]
  },
  {
   "cell_type": "markdown",
   "id": "d31e3f0f",
   "metadata": {},
   "source": [
    "<h4>Callbacks:</h4>"
   ]
  },
  {
   "cell_type": "code",
   "execution_count": 20,
   "id": "6f1b4d2b",
   "metadata": {},
   "outputs": [],
   "source": [
    "from tensorflow.keras.callbacks import ModelCheckpoint\n",
    "from tensorflow.keras.callbacks import ReduceLROnPlateau\n",
    "from tensorflow.keras.callbacks import TensorBoard\n",
    "\n",
    "checkpoint = ModelCheckpoint(\"nextword1.h5\", monitor='loss', verbose=1,\n",
    "    save_best_only=True, mode='auto')\n",
    "\n",
    "reduce = ReduceLROnPlateau(monitor='loss', factor=0.2, patience=3, min_lr=0.0001, verbose = 1)\n",
    "\n",
    "logdir='logsnextword1'\n",
    "tensorboard_Visualization = TensorBoard(log_dir=logdir)"
   ]
  },
  {
   "cell_type": "markdown",
   "id": "3db8a2e8",
   "metadata": {},
   "source": [
    "<h4>Compile the model: </h4>"
   ]
  },
  {
   "cell_type": "code",
   "execution_count": 21,
   "id": "de1db91a",
   "metadata": {},
   "outputs": [],
   "source": [
    "model.compile(loss=\"categorical_crossentropy\", optimizer=Adam(learning_rate=0.001))"
   ]
  },
  {
   "cell_type": "markdown",
   "id": "cf09c357",
   "metadata": {},
   "source": [
    "<h4>Fit the model</h4>"
   ]
  },
  {
   "cell_type": "code",
   "execution_count": 22,
   "id": "2c2e9616",
   "metadata": {},
   "outputs": [
    {
     "name": "stdout",
     "output_type": "stream",
     "text": [
      "Epoch 1/150\n",
      "61/61 [==============================] - 14s 160ms/step - loss: 7.8754\n",
      "\n",
      "Epoch 00001: loss improved from inf to 7.87541, saving model to nextword1.h5\n",
      "Epoch 2/150\n",
      "61/61 [==============================] - 10s 157ms/step - loss: 7.8628\n",
      "\n",
      "Epoch 00002: loss improved from 7.87541 to 7.86281, saving model to nextword1.h5\n",
      "Epoch 3/150\n",
      "61/61 [==============================] - 9s 152ms/step - loss: 7.8153\n",
      "\n",
      "Epoch 00003: loss improved from 7.86281 to 7.81531, saving model to nextword1.h5\n",
      "Epoch 4/150\n",
      "61/61 [==============================] - 9s 140ms/step - loss: 7.6308\n",
      "\n",
      "Epoch 00004: loss improved from 7.81531 to 7.63081, saving model to nextword1.h5\n",
      "Epoch 5/150\n",
      "61/61 [==============================] - 9s 151ms/step - loss: 7.4274\n",
      "\n",
      "Epoch 00005: loss improved from 7.63081 to 7.42744, saving model to nextword1.h5\n",
      "Epoch 6/150\n",
      "61/61 [==============================] - 10s 160ms/step - loss: 7.2563\n",
      "\n",
      "Epoch 00006: loss improved from 7.42744 to 7.25630, saving model to nextword1.h5\n",
      "Epoch 7/150\n",
      "61/61 [==============================] - 9s 149ms/step - loss: 7.1410\n",
      "\n",
      "Epoch 00007: loss improved from 7.25630 to 7.14098, saving model to nextword1.h5\n",
      "Epoch 8/150\n",
      "61/61 [==============================] - 8s 137ms/step - loss: 7.0501\n",
      "\n",
      "Epoch 00008: loss improved from 7.14098 to 7.05007, saving model to nextword1.h5\n",
      "Epoch 9/150\n",
      "61/61 [==============================] - 9s 143ms/step - loss: 6.9528\n",
      "\n",
      "Epoch 00009: loss improved from 7.05007 to 6.95280, saving model to nextword1.h5\n",
      "Epoch 10/150\n",
      "61/61 [==============================] - 9s 149ms/step - loss: 6.8261\n",
      "\n",
      "Epoch 00010: loss improved from 6.95280 to 6.82606, saving model to nextword1.h5\n",
      "Epoch 11/150\n",
      "61/61 [==============================] - 9s 142ms/step - loss: 6.6513\n",
      "\n",
      "Epoch 00011: loss improved from 6.82606 to 6.65127, saving model to nextword1.h5\n",
      "Epoch 12/150\n",
      "61/61 [==============================] - 9s 150ms/step - loss: 6.4287\n",
      "\n",
      "Epoch 00012: loss improved from 6.65127 to 6.42874, saving model to nextword1.h5\n",
      "Epoch 13/150\n",
      "61/61 [==============================] - 9s 151ms/step - loss: 6.2045\n",
      "\n",
      "Epoch 00013: loss improved from 6.42874 to 6.20449, saving model to nextword1.h5\n",
      "Epoch 14/150\n",
      "61/61 [==============================] - 8s 136ms/step - loss: 6.0088\n",
      "\n",
      "Epoch 00014: loss improved from 6.20449 to 6.00879, saving model to nextword1.h5\n",
      "Epoch 15/150\n",
      "61/61 [==============================] - 8s 132ms/step - loss: 5.8168\n",
      "\n",
      "Epoch 00015: loss improved from 6.00879 to 5.81683, saving model to nextword1.h5\n",
      "Epoch 16/150\n",
      "61/61 [==============================] - 8s 132ms/step - loss: 5.6382\n",
      "\n",
      "Epoch 00016: loss improved from 5.81683 to 5.63819, saving model to nextword1.h5\n",
      "Epoch 17/150\n",
      "61/61 [==============================] - 8s 132ms/step - loss: 5.4723\n",
      "\n",
      "Epoch 00017: loss improved from 5.63819 to 5.47228, saving model to nextword1.h5\n",
      "Epoch 18/150\n",
      "61/61 [==============================] - 8s 132ms/step - loss: 5.3301\n",
      "\n",
      "Epoch 00018: loss improved from 5.47228 to 5.33009, saving model to nextword1.h5\n",
      "Epoch 19/150\n",
      "61/61 [==============================] - 8s 132ms/step - loss: 5.2160\n",
      "\n",
      "Epoch 00019: loss improved from 5.33009 to 5.21598, saving model to nextword1.h5\n",
      "Epoch 20/150\n",
      "61/61 [==============================] - 8s 132ms/step - loss: 5.0867\n",
      "\n",
      "Epoch 00020: loss improved from 5.21598 to 5.08672, saving model to nextword1.h5\n",
      "Epoch 21/150\n",
      "61/61 [==============================] - 8s 132ms/step - loss: 4.9616\n",
      "\n",
      "Epoch 00021: loss improved from 5.08672 to 4.96162, saving model to nextword1.h5\n",
      "Epoch 22/150\n",
      "61/61 [==============================] - 8s 133ms/step - loss: 4.8547\n",
      "\n",
      "Epoch 00022: loss improved from 4.96162 to 4.85473, saving model to nextword1.h5\n",
      "Epoch 23/150\n",
      "61/61 [==============================] - 8s 132ms/step - loss: 4.7525\n",
      "\n",
      "Epoch 00023: loss improved from 4.85473 to 4.75254, saving model to nextword1.h5\n",
      "Epoch 24/150\n",
      "61/61 [==============================] - 8s 132ms/step - loss: 4.6600\n",
      "\n",
      "Epoch 00024: loss improved from 4.75254 to 4.65997, saving model to nextword1.h5\n",
      "Epoch 25/150\n",
      "61/61 [==============================] - 8s 132ms/step - loss: 4.5570\n",
      "\n",
      "Epoch 00025: loss improved from 4.65997 to 4.55705, saving model to nextword1.h5\n",
      "Epoch 26/150\n",
      "61/61 [==============================] - 8s 132ms/step - loss: 4.4801\n",
      "\n",
      "Epoch 00026: loss improved from 4.55705 to 4.48014, saving model to nextword1.h5\n",
      "Epoch 27/150\n",
      "61/61 [==============================] - 8s 132ms/step - loss: 4.3901\n",
      "\n",
      "Epoch 00027: loss improved from 4.48014 to 4.39010, saving model to nextword1.h5\n",
      "Epoch 28/150\n",
      "61/61 [==============================] - 8s 134ms/step - loss: 4.3142\n",
      "\n",
      "Epoch 00028: loss improved from 4.39010 to 4.31421, saving model to nextword1.h5\n",
      "Epoch 29/150\n",
      "61/61 [==============================] - 8s 130ms/step - loss: 4.2338\n",
      "\n",
      "Epoch 00029: loss improved from 4.31421 to 4.23377, saving model to nextword1.h5\n",
      "Epoch 30/150\n",
      "61/61 [==============================] - 8s 132ms/step - loss: 4.1754\n",
      "\n",
      "Epoch 00030: loss improved from 4.23377 to 4.17545, saving model to nextword1.h5\n",
      "Epoch 31/150\n",
      "61/61 [==============================] - 8s 131ms/step - loss: 4.1091\n",
      "\n",
      "Epoch 00031: loss improved from 4.17545 to 4.10915, saving model to nextword1.h5\n",
      "Epoch 32/150\n",
      "61/61 [==============================] - 8s 131ms/step - loss: 4.0161\n",
      "\n",
      "Epoch 00032: loss improved from 4.10915 to 4.01609, saving model to nextword1.h5\n",
      "Epoch 33/150\n",
      "61/61 [==============================] - 8s 131ms/step - loss: 3.9127\n",
      "\n",
      "Epoch 00033: loss improved from 4.01609 to 3.91267, saving model to nextword1.h5\n",
      "Epoch 34/150\n",
      "61/61 [==============================] - 8s 130ms/step - loss: 3.8000\n",
      "\n",
      "Epoch 00034: loss improved from 3.91267 to 3.79996, saving model to nextword1.h5\n",
      "Epoch 35/150\n",
      "61/61 [==============================] - 8s 131ms/step - loss: 3.7269\n",
      "\n",
      "Epoch 00035: loss improved from 3.79996 to 3.72691, saving model to nextword1.h5\n",
      "Epoch 36/150\n",
      "61/61 [==============================] - 8s 131ms/step - loss: 3.6006\n",
      "\n",
      "Epoch 00036: loss improved from 3.72691 to 3.60064, saving model to nextword1.h5\n",
      "Epoch 37/150\n",
      "61/61 [==============================] - 8s 131ms/step - loss: 3.4650\n",
      "\n",
      "Epoch 00037: loss improved from 3.60064 to 3.46498, saving model to nextword1.h5\n",
      "Epoch 38/150\n",
      "61/61 [==============================] - 8s 130ms/step - loss: 3.3504\n",
      "\n",
      "Epoch 00038: loss improved from 3.46498 to 3.35040, saving model to nextword1.h5\n",
      "Epoch 39/150\n",
      "61/61 [==============================] - 8s 131ms/step - loss: 3.2544\n",
      "\n",
      "Epoch 00039: loss improved from 3.35040 to 3.25437, saving model to nextword1.h5\n",
      "Epoch 40/150\n",
      "61/61 [==============================] - 8s 136ms/step - loss: 3.1895\n",
      "\n",
      "Epoch 00040: loss improved from 3.25437 to 3.18954, saving model to nextword1.h5\n",
      "Epoch 41/150\n",
      "61/61 [==============================] - 8s 134ms/step - loss: 3.0726\n",
      "\n",
      "Epoch 00041: loss improved from 3.18954 to 3.07262, saving model to nextword1.h5\n",
      "Epoch 42/150\n",
      "61/61 [==============================] - 8s 134ms/step - loss: 2.9796\n",
      "\n",
      "Epoch 00042: loss improved from 3.07262 to 2.97962, saving model to nextword1.h5\n",
      "Epoch 43/150\n",
      "61/61 [==============================] - 8s 133ms/step - loss: 2.8741\n",
      "\n",
      "Epoch 00043: loss improved from 2.97962 to 2.87406, saving model to nextword1.h5\n",
      "Epoch 44/150\n",
      "61/61 [==============================] - 8s 131ms/step - loss: 2.7989\n",
      "\n",
      "Epoch 00044: loss improved from 2.87406 to 2.79887, saving model to nextword1.h5\n",
      "Epoch 45/150\n",
      "61/61 [==============================] - 8s 131ms/step - loss: 2.7610\n",
      "\n",
      "Epoch 00045: loss improved from 2.79887 to 2.76104, saving model to nextword1.h5\n",
      "Epoch 46/150\n",
      "61/61 [==============================] - 8s 131ms/step - loss: 2.6904\n",
      "\n",
      "Epoch 00046: loss improved from 2.76104 to 2.69036, saving model to nextword1.h5\n",
      "Epoch 47/150\n",
      "61/61 [==============================] - 8s 132ms/step - loss: 2.6308\n",
      "\n",
      "Epoch 00047: loss improved from 2.69036 to 2.63082, saving model to nextword1.h5\n",
      "Epoch 48/150\n",
      "61/61 [==============================] - 8s 132ms/step - loss: 2.5870\n",
      "\n",
      "Epoch 00048: loss improved from 2.63082 to 2.58696, saving model to nextword1.h5\n",
      "Epoch 49/150\n",
      "61/61 [==============================] - 8s 134ms/step - loss: 2.5270\n",
      "\n",
      "Epoch 00049: loss improved from 2.58696 to 2.52705, saving model to nextword1.h5\n",
      "Epoch 50/150\n",
      "61/61 [==============================] - 8s 131ms/step - loss: 2.4761\n",
      "\n",
      "Epoch 00050: loss improved from 2.52705 to 2.47613, saving model to nextword1.h5\n"
     ]
    },
    {
     "name": "stdout",
     "output_type": "stream",
     "text": [
      "Epoch 51/150\n",
      "61/61 [==============================] - 9s 143ms/step - loss: 2.4324\n",
      "\n",
      "Epoch 00051: loss improved from 2.47613 to 2.43235, saving model to nextword1.h5\n",
      "Epoch 52/150\n",
      "61/61 [==============================] - 8s 131ms/step - loss: 2.3770\n",
      "\n",
      "Epoch 00052: loss improved from 2.43235 to 2.37698, saving model to nextword1.h5\n",
      "Epoch 53/150\n",
      "61/61 [==============================] - 8s 130ms/step - loss: 2.3438\n",
      "\n",
      "Epoch 00053: loss improved from 2.37698 to 2.34385, saving model to nextword1.h5\n",
      "Epoch 54/150\n",
      "61/61 [==============================] - 8s 131ms/step - loss: 2.3111\n",
      "\n",
      "Epoch 00054: loss improved from 2.34385 to 2.31111, saving model to nextword1.h5\n",
      "Epoch 55/150\n",
      "61/61 [==============================] - 8s 130ms/step - loss: 2.2851\n",
      "\n",
      "Epoch 00055: loss improved from 2.31111 to 2.28506, saving model to nextword1.h5\n",
      "Epoch 56/150\n",
      "61/61 [==============================] - 8s 133ms/step - loss: 2.2365\n",
      "\n",
      "Epoch 00056: loss improved from 2.28506 to 2.23654, saving model to nextword1.h5\n",
      "Epoch 57/150\n",
      "61/61 [==============================] - 8s 131ms/step - loss: 2.1604\n",
      "\n",
      "Epoch 00057: loss improved from 2.23654 to 2.16042, saving model to nextword1.h5\n",
      "Epoch 58/150\n",
      "61/61 [==============================] - 8s 131ms/step - loss: 2.1093\n",
      "\n",
      "Epoch 00058: loss improved from 2.16042 to 2.10933, saving model to nextword1.h5\n",
      "Epoch 59/150\n",
      "61/61 [==============================] - 8s 130ms/step - loss: 2.0753\n",
      "\n",
      "Epoch 00059: loss improved from 2.10933 to 2.07526, saving model to nextword1.h5\n",
      "Epoch 60/150\n",
      "61/61 [==============================] - 8s 131ms/step - loss: 2.0674\n",
      "\n",
      "Epoch 00060: loss improved from 2.07526 to 2.06736, saving model to nextword1.h5\n",
      "Epoch 61/150\n",
      "61/61 [==============================] - 8s 131ms/step - loss: 2.0761\n",
      "\n",
      "Epoch 00061: loss did not improve from 2.06736\n",
      "Epoch 62/150\n",
      "61/61 [==============================] - 8s 132ms/step - loss: 2.0221\n",
      "\n",
      "Epoch 00062: loss improved from 2.06736 to 2.02210, saving model to nextword1.h5\n",
      "Epoch 63/150\n",
      "61/61 [==============================] - 8s 131ms/step - loss: 1.9941\n",
      "\n",
      "Epoch 00063: loss improved from 2.02210 to 1.99406, saving model to nextword1.h5\n",
      "Epoch 64/150\n",
      "61/61 [==============================] - 8s 139ms/step - loss: 1.9738\n",
      "\n",
      "Epoch 00064: loss improved from 1.99406 to 1.97377, saving model to nextword1.h5\n",
      "Epoch 65/150\n",
      "61/61 [==============================] - 9s 154ms/step - loss: 1.9256\n",
      "\n",
      "Epoch 00065: loss improved from 1.97377 to 1.92561, saving model to nextword1.h5\n",
      "Epoch 66/150\n",
      "61/61 [==============================] - 8s 132ms/step - loss: 1.8934\n",
      "\n",
      "Epoch 00066: loss improved from 1.92561 to 1.89336, saving model to nextword1.h5\n",
      "Epoch 67/150\n",
      "61/61 [==============================] - 8s 134ms/step - loss: 1.8516\n",
      "\n",
      "Epoch 00067: loss improved from 1.89336 to 1.85160, saving model to nextword1.h5\n",
      "Epoch 68/150\n",
      "61/61 [==============================] - 8s 138ms/step - loss: 1.8223\n",
      "\n",
      "Epoch 00068: loss improved from 1.85160 to 1.82227, saving model to nextword1.h5\n",
      "Epoch 69/150\n",
      "61/61 [==============================] - 13s 210ms/step - loss: 1.8081\n",
      "\n",
      "Epoch 00069: loss improved from 1.82227 to 1.80812, saving model to nextword1.h5\n",
      "Epoch 70/150\n",
      "61/61 [==============================] - 10s 164ms/step - loss: 1.7979\n",
      "\n",
      "Epoch 00070: loss improved from 1.80812 to 1.79794, saving model to nextword1.h5\n",
      "Epoch 71/150\n",
      "61/61 [==============================] - 10s 171ms/step - loss: 1.8166\n",
      "\n",
      "Epoch 00071: loss did not improve from 1.79794\n",
      "Epoch 72/150\n",
      "61/61 [==============================] - 9s 155ms/step - loss: 1.7766\n",
      "\n",
      "Epoch 00072: loss improved from 1.79794 to 1.77662, saving model to nextword1.h5\n",
      "Epoch 73/150\n",
      "61/61 [==============================] - 9s 153ms/step - loss: 1.7672\n",
      "\n",
      "Epoch 00073: loss improved from 1.77662 to 1.76724, saving model to nextword1.h5\n",
      "Epoch 74/150\n",
      "61/61 [==============================] - 12s 190ms/step - loss: 1.7270\n",
      "\n",
      "Epoch 00074: loss improved from 1.76724 to 1.72696, saving model to nextword1.h5\n",
      "Epoch 75/150\n",
      "61/61 [==============================] - 11s 172ms/step - loss: 1.7233\n",
      "\n",
      "Epoch 00075: loss improved from 1.72696 to 1.72333, saving model to nextword1.h5\n",
      "Epoch 76/150\n",
      "61/61 [==============================] - 14s 222ms/step - loss: 1.6806\n",
      "\n",
      "Epoch 00076: loss improved from 1.72333 to 1.68056, saving model to nextword1.h5\n",
      "Epoch 77/150\n",
      "61/61 [==============================] - 12s 190ms/step - loss: 1.6636\n",
      "\n",
      "Epoch 00077: loss improved from 1.68056 to 1.66358, saving model to nextword1.h5\n",
      "Epoch 78/150\n",
      "61/61 [==============================] - 11s 179ms/step - loss: 1.6495\n",
      "\n",
      "Epoch 00078: loss improved from 1.66358 to 1.64951, saving model to nextword1.h5\n",
      "Epoch 79/150\n",
      "61/61 [==============================] - 13s 205ms/step - loss: 1.6529\n",
      "\n",
      "Epoch 00079: loss did not improve from 1.64951\n",
      "Epoch 80/150\n",
      "61/61 [==============================] - 11s 178ms/step - loss: 1.6193\n",
      "\n",
      "Epoch 00080: loss improved from 1.64951 to 1.61934, saving model to nextword1.h5\n",
      "Epoch 81/150\n",
      "61/61 [==============================] - 11s 175ms/step - loss: 1.6097\n",
      "\n",
      "Epoch 00081: loss improved from 1.61934 to 1.60974, saving model to nextword1.h5\n",
      "Epoch 82/150\n",
      "61/61 [==============================] - 11s 184ms/step - loss: 1.6214\n",
      "\n",
      "Epoch 00082: loss did not improve from 1.60974\n",
      "Epoch 83/150\n",
      "61/61 [==============================] - 11s 176ms/step - loss: 1.5992\n",
      "\n",
      "Epoch 00083: loss improved from 1.60974 to 1.59924, saving model to nextword1.h5\n",
      "Epoch 84/150\n",
      "61/61 [==============================] - 11s 186ms/step - loss: 1.5632\n",
      "\n",
      "Epoch 00084: loss improved from 1.59924 to 1.56321, saving model to nextword1.h5\n",
      "Epoch 85/150\n",
      "61/61 [==============================] - 10s 160ms/step - loss: 1.5326\n",
      "\n",
      "Epoch 00085: loss improved from 1.56321 to 1.53263, saving model to nextword1.h5\n",
      "Epoch 86/150\n",
      "61/61 [==============================] - 10s 158ms/step - loss: 1.4996\n",
      "\n",
      "Epoch 00086: loss improved from 1.53263 to 1.49965, saving model to nextword1.h5\n",
      "Epoch 87/150\n",
      "61/61 [==============================] - 9s 150ms/step - loss: 1.5158\n",
      "\n",
      "Epoch 00087: loss did not improve from 1.49965\n",
      "Epoch 88/150\n",
      "61/61 [==============================] - 10s 159ms/step - loss: 1.4715\n",
      "\n",
      "Epoch 00088: loss improved from 1.49965 to 1.47149, saving model to nextword1.h5\n",
      "Epoch 89/150\n",
      "61/61 [==============================] - 9s 151ms/step - loss: 1.4527\n",
      "\n",
      "Epoch 00089: loss improved from 1.47149 to 1.45271, saving model to nextword1.h5\n",
      "Epoch 90/150\n",
      "61/61 [==============================] - 9s 144ms/step - loss: 1.4610\n",
      "\n",
      "Epoch 00090: loss did not improve from 1.45271\n",
      "Epoch 91/150\n",
      "61/61 [==============================] - 9s 144ms/step - loss: 1.4436\n",
      "\n",
      "Epoch 00091: loss improved from 1.45271 to 1.44357, saving model to nextword1.h5\n",
      "Epoch 92/150\n",
      "61/61 [==============================] - 9s 144ms/step - loss: 1.4254\n",
      "\n",
      "Epoch 00092: loss improved from 1.44357 to 1.42538, saving model to nextword1.h5\n",
      "Epoch 93/150\n",
      "61/61 [==============================] - 9s 144ms/step - loss: 1.4046\n",
      "\n",
      "Epoch 00093: loss improved from 1.42538 to 1.40460, saving model to nextword1.h5\n",
      "Epoch 94/150\n",
      "61/61 [==============================] - 9s 144ms/step - loss: 1.4045\n",
      "\n",
      "Epoch 00094: loss improved from 1.40460 to 1.40450, saving model to nextword1.h5\n",
      "Epoch 95/150\n",
      "61/61 [==============================] - 11s 184ms/step - loss: 1.3787\n",
      "\n",
      "Epoch 00095: loss improved from 1.40450 to 1.37875, saving model to nextword1.h5\n",
      "Epoch 96/150\n",
      "61/61 [==============================] - 10s 167ms/step - loss: 1.3644\n",
      "\n",
      "Epoch 00096: loss improved from 1.37875 to 1.36436, saving model to nextword1.h5\n",
      "Epoch 97/150\n",
      "61/61 [==============================] - 9s 152ms/step - loss: 1.3685\n",
      "\n",
      "Epoch 00097: loss did not improve from 1.36436\n",
      "Epoch 98/150\n",
      "61/61 [==============================] - 10s 158ms/step - loss: 1.3724\n",
      "\n",
      "Epoch 00098: loss did not improve from 1.36436\n",
      "Epoch 99/150\n",
      "61/61 [==============================] - 13s 214ms/step - loss: 1.3710\n",
      "\n",
      "Epoch 00099: loss did not improve from 1.36436\n",
      "\n",
      "Epoch 00099: ReduceLROnPlateau reducing learning rate to 0.00020000000949949026.\n",
      "Epoch 100/150\n",
      "61/61 [==============================] - 12s 188ms/step - loss: 1.0228\n",
      "\n",
      "Epoch 00100: loss improved from 1.36436 to 1.02285, saving model to nextword1.h5\n",
      "Epoch 101/150\n",
      "61/61 [==============================] - 14s 230ms/step - loss: 0.8878\n",
      "\n",
      "Epoch 00101: loss improved from 1.02285 to 0.88783, saving model to nextword1.h5\n"
     ]
    },
    {
     "name": "stdout",
     "output_type": "stream",
     "text": [
      "Epoch 102/150\n",
      "61/61 [==============================] - 12s 190ms/step - loss: 0.8427\n",
      "\n",
      "Epoch 00102: loss improved from 0.88783 to 0.84272, saving model to nextword1.h5\n",
      "Epoch 103/150\n",
      "61/61 [==============================] - 11s 184ms/step - loss: 0.8192\n",
      "\n",
      "Epoch 00103: loss improved from 0.84272 to 0.81919, saving model to nextword1.h5\n",
      "Epoch 104/150\n",
      "61/61 [==============================] - 11s 186ms/step - loss: 0.8053\n",
      "\n",
      "Epoch 00104: loss improved from 0.81919 to 0.80529, saving model to nextword1.h5\n",
      "Epoch 105/150\n",
      "61/61 [==============================] - 11s 184ms/step - loss: 0.7926\n",
      "\n",
      "Epoch 00105: loss improved from 0.80529 to 0.79265, saving model to nextword1.h5\n",
      "Epoch 106/150\n",
      "61/61 [==============================] - 13s 206ms/step - loss: 0.7868\n",
      "\n",
      "Epoch 00106: loss improved from 0.79265 to 0.78677, saving model to nextword1.h5\n",
      "Epoch 107/150\n",
      "61/61 [==============================] - 11s 187ms/step - loss: 0.7817\n",
      "\n",
      "Epoch 00107: loss improved from 0.78677 to 0.78170, saving model to nextword1.h5\n",
      "Epoch 108/150\n",
      "61/61 [==============================] - 12s 201ms/step - loss: 0.7785\n",
      "\n",
      "Epoch 00108: loss improved from 0.78170 to 0.77853, saving model to nextword1.h5\n",
      "Epoch 109/150\n",
      "61/61 [==============================] - 12s 203ms/step - loss: 0.7739\n",
      "\n",
      "Epoch 00109: loss improved from 0.77853 to 0.77392, saving model to nextword1.h5\n",
      "Epoch 110/150\n",
      "61/61 [==============================] - 13s 219ms/step - loss: 0.7701\n",
      "\n",
      "Epoch 00110: loss improved from 0.77392 to 0.77009, saving model to nextword1.h5\n",
      "Epoch 111/150\n",
      "61/61 [==============================] - 13s 207ms/step - loss: 0.7681\n",
      "\n",
      "Epoch 00111: loss improved from 0.77009 to 0.76811, saving model to nextword1.h5\n",
      "Epoch 112/150\n",
      "61/61 [==============================] - 11s 184ms/step - loss: 0.7659\n",
      "\n",
      "Epoch 00112: loss improved from 0.76811 to 0.76590, saving model to nextword1.h5\n",
      "Epoch 113/150\n",
      "61/61 [==============================] - 11s 184ms/step - loss: 0.7628\n",
      "\n",
      "Epoch 00113: loss improved from 0.76590 to 0.76278, saving model to nextword1.h5\n",
      "Epoch 114/150\n",
      "61/61 [==============================] - 11s 183ms/step - loss: 0.7594\n",
      "\n",
      "Epoch 00114: loss improved from 0.76278 to 0.75940, saving model to nextword1.h5\n",
      "Epoch 115/150\n",
      "61/61 [==============================] - 10s 166ms/step - loss: 0.7583\n",
      "\n",
      "Epoch 00115: loss improved from 0.75940 to 0.75832, saving model to nextword1.h5\n",
      "Epoch 116/150\n",
      "61/61 [==============================] - 10s 157ms/step - loss: 0.7569\n",
      "\n",
      "Epoch 00116: loss improved from 0.75832 to 0.75689, saving model to nextword1.h5\n",
      "Epoch 117/150\n",
      "61/61 [==============================] - 10s 161ms/step - loss: 0.7519\n",
      "\n",
      "Epoch 00117: loss improved from 0.75689 to 0.75195, saving model to nextword1.h5\n",
      "Epoch 118/150\n",
      "61/61 [==============================] - 12s 199ms/step - loss: 0.7546\n",
      "\n",
      "Epoch 00118: loss did not improve from 0.75195\n",
      "Epoch 119/150\n",
      "61/61 [==============================] - 12s 197ms/step - loss: 0.75001s - loss:\n",
      "\n",
      "Epoch 00119: loss improved from 0.75195 to 0.75000, saving model to nextword1.h5\n",
      "Epoch 120/150\n",
      "61/61 [==============================] - 12s 192ms/step - loss: 0.7505\n",
      "\n",
      "Epoch 00120: loss did not improve from 0.75000\n",
      "Epoch 121/150\n",
      "61/61 [==============================] - 12s 190ms/step - loss: 0.7468\n",
      "\n",
      "Epoch 00121: loss improved from 0.75000 to 0.74677, saving model to nextword1.h5\n",
      "Epoch 122/150\n",
      "61/61 [==============================] - 13s 214ms/step - loss: 0.7463\n",
      "\n",
      "Epoch 00122: loss improved from 0.74677 to 0.74632, saving model to nextword1.h5\n",
      "Epoch 123/150\n",
      "61/61 [==============================] - 14s 226ms/step - loss: 0.7441\n",
      "\n",
      "Epoch 00123: loss improved from 0.74632 to 0.74411, saving model to nextword1.h5\n",
      "Epoch 124/150\n",
      "61/61 [==============================] - 12s 196ms/step - loss: 0.7432\n",
      "\n",
      "Epoch 00124: loss improved from 0.74411 to 0.74324, saving model to nextword1.h5\n",
      "Epoch 125/150\n",
      "61/61 [==============================] - 12s 189ms/step - loss: 0.7417\n",
      "\n",
      "Epoch 00125: loss improved from 0.74324 to 0.74172, saving model to nextword1.h5\n",
      "Epoch 126/150\n",
      "61/61 [==============================] - 12s 190ms/step - loss: 0.7416\n",
      "\n",
      "Epoch 00126: loss improved from 0.74172 to 0.74163, saving model to nextword1.h5\n",
      "Epoch 127/150\n",
      "61/61 [==============================] - 13s 222ms/step - loss: 0.7404\n",
      "\n",
      "Epoch 00127: loss improved from 0.74163 to 0.74037, saving model to nextword1.h5\n",
      "Epoch 128/150\n",
      "61/61 [==============================] - 11s 182ms/step - loss: 0.7387\n",
      "\n",
      "Epoch 00128: loss improved from 0.74037 to 0.73870, saving model to nextword1.h5\n",
      "Epoch 129/150\n",
      "61/61 [==============================] - 9s 151ms/step - loss: 0.7403\n",
      "\n",
      "Epoch 00129: loss did not improve from 0.73870\n",
      "Epoch 130/150\n",
      "61/61 [==============================] - 10s 167ms/step - loss: 0.7373\n",
      "\n",
      "Epoch 00130: loss improved from 0.73870 to 0.73730, saving model to nextword1.h5\n",
      "Epoch 131/150\n",
      "61/61 [==============================] - 10s 163ms/step - loss: 0.7356\n",
      "\n",
      "Epoch 00131: loss improved from 0.73730 to 0.73555, saving model to nextword1.h5\n",
      "Epoch 132/150\n",
      "61/61 [==============================] - 13s 212ms/step - loss: 0.7329\n",
      "\n",
      "Epoch 00132: loss improved from 0.73555 to 0.73293, saving model to nextword1.h5\n",
      "Epoch 133/150\n",
      "61/61 [==============================] - 12s 202ms/step - loss: 0.7310\n",
      "\n",
      "Epoch 00133: loss improved from 0.73293 to 0.73102, saving model to nextword1.h5\n",
      "Epoch 134/150\n",
      "61/61 [==============================] - 10s 169ms/step - loss: 0.7305\n",
      "\n",
      "Epoch 00134: loss improved from 0.73102 to 0.73053, saving model to nextword1.h5\n",
      "Epoch 135/150\n",
      "61/61 [==============================] - 14s 231ms/step - loss: 0.7307\n",
      "\n",
      "Epoch 00135: loss did not improve from 0.73053\n",
      "Epoch 136/150\n",
      "61/61 [==============================] - 13s 210ms/step - loss: 0.7306\n",
      "\n",
      "Epoch 00136: loss did not improve from 0.73053\n",
      "Epoch 137/150\n",
      "61/61 [==============================] - 12s 202ms/step - loss: 0.7310\n",
      "\n",
      "Epoch 00137: loss did not improve from 0.73053\n",
      "\n",
      "Epoch 00137: ReduceLROnPlateau reducing learning rate to 0.0001.\n",
      "Epoch 138/150\n",
      "61/61 [==============================] - 10s 170ms/step - loss: 0.6742\n",
      "\n",
      "Epoch 00138: loss improved from 0.73053 to 0.67418, saving model to nextword1.h5\n",
      "Epoch 139/150\n",
      "61/61 [==============================] - 10s 162ms/step - loss: 0.6709\n",
      "\n",
      "Epoch 00139: loss improved from 0.67418 to 0.67088, saving model to nextword1.h5\n",
      "Epoch 140/150\n",
      "61/61 [==============================] - 9s 153ms/step - loss: 0.6680\n",
      "\n",
      "Epoch 00140: loss improved from 0.67088 to 0.66800, saving model to nextword1.h5\n",
      "Epoch 141/150\n",
      "61/61 [==============================] - 9s 151ms/step - loss: 0.6696\n",
      "\n",
      "Epoch 00141: loss did not improve from 0.66800\n",
      "Epoch 142/150\n",
      "61/61 [==============================] - 9s 149ms/step - loss: 0.6681\n",
      "\n",
      "Epoch 00142: loss did not improve from 0.66800\n",
      "Epoch 143/150\n",
      "61/61 [==============================] - 9s 150ms/step - loss: 0.6674\n",
      "\n",
      "Epoch 00143: loss improved from 0.66800 to 0.66741, saving model to nextword1.h5\n",
      "Epoch 144/150\n",
      "61/61 [==============================] - 9s 151ms/step - loss: 0.6671\n",
      "\n",
      "Epoch 00144: loss improved from 0.66741 to 0.66706, saving model to nextword1.h5\n",
      "Epoch 145/150\n",
      "61/61 [==============================] - 9s 150ms/step - loss: 0.6660\n",
      "\n",
      "Epoch 00145: loss improved from 0.66706 to 0.66599, saving model to nextword1.h5\n",
      "Epoch 146/150\n",
      "61/61 [==============================] - 9s 150ms/step - loss: 0.6650\n",
      "\n",
      "Epoch 00146: loss improved from 0.66599 to 0.66501, saving model to nextword1.h5\n",
      "Epoch 147/150\n",
      "61/61 [==============================] - 9s 150ms/step - loss: 0.6655\n",
      "\n",
      "Epoch 00147: loss did not improve from 0.66501\n",
      "Epoch 148/150\n",
      "61/61 [==============================] - 9s 149ms/step - loss: 0.6654\n",
      "\n",
      "Epoch 00148: loss did not improve from 0.66501\n",
      "Epoch 149/150\n",
      "61/61 [==============================] - 9s 149ms/step - loss: 0.6660\n",
      "\n",
      "Epoch 00149: loss did not improve from 0.66501\n",
      "Epoch 150/150\n",
      "61/61 [==============================] - 9s 149ms/step - loss: 0.6641\n",
      "\n",
      "Epoch 00150: loss improved from 0.66501 to 0.66409, saving model to nextword1.h5\n"
     ]
    }
   ],
   "source": [
    "history = model.fit(X, y, epochs=150, batch_size=64, callbacks=[checkpoint, reduce, tensorboard_Visualization])"
   ]
  },
  {
   "cell_type": "code",
   "execution_count": 44,
   "id": "be541707",
   "metadata": {},
   "outputs": [
    {
     "name": "stderr",
     "output_type": "stream",
     "text": [
      "<ipython-input-44-370ad25e8e6d>:7: UserWarning: Tight layout not applied. The bottom and top margins cannot be made large enough to accommodate all axes decorations. \n",
      "  fig.tight_layout(pad=50.0)\n"
     ]
    },
    {
     "data": {
      "image/png": "[encoded data removed]",
      "text/plain": [
       "<Figure size 1080x720 with 2 Axes>"
      ]
     },
     "metadata": {
      "needs_background": "light"
     },
     "output_type": "display_data"
    }
   ],
   "source": [
    "# Plotting the loss and accuracy achieved by the model in each epoch\n",
    "fig, ax = plt.subplots(nrows=1, ncols=2,figsize=(15,10))\n",
    "ax[0].plot(history.history['loss'])\n",
    "#ax[1].plot(history.history['accuracy'])\n",
    "ax[0].set_title('model loss')\n",
    "ax[1].set_title('model Accuracy')\n",
    "fig.tight_layout(pad=50.0)\n",
    "plt.show()"
   ]
  },
  {
   "cell_type": "code",
   "execution_count": null,
   "id": "78011598",
   "metadata": {},
   "outputs": [],
   "source": []
  }
 ],
 "metadata": {
  "kernelspec": {
   "display_name": "Python 3",
   "language": "python",
   "name": "python3"
  },
  "language_info": {
   "codemirror_mode": {
    "name": "ipython",
    "version": 3
   },
   "file_extension": ".py",
   "mimetype": "text/x-python",
   "name": "python",
   "nbconvert_exporter": "python",
   "pygments_lexer": "ipython3",
   "version": "3.8.8"
  }
 },
 "nbformat": 4,
 "nbformat_minor": 5
}
