{
 "cells": [
  {
   "cell_type": "markdown",
   "id": "c9360bbd",
   "metadata": {},
   "source": [
    "### CREATING THE PREDICTION SCRIPT"
   ]
  },
  {
   "cell_type": "code",
   "execution_count": 1,
   "id": "b9da9465",
   "metadata": {},
   "outputs": [],
   "source": [
    "# Importing the Libraries\n",
    "\n",
    "from tensorflow.keras.models import *\n",
    "import numpy as np\n",
    "import pickle"
   ]
  },
  {
   "cell_type": "code",
   "execution_count": 2,
   "id": "df26f5dc",
   "metadata": {},
   "outputs": [],
   "source": [
    "# Load the model and tokenizer\n",
    "model = load_model('nextword1.h5')\n",
    "tokenizer = pickle.load(open('tokenizer1.pkl', 'rb'))\n",
    "\n",
    "def Predict_Next_Words(model, tokenizer, text):\n",
    "    sequence = tokenizer.texts_to_sequences([text])\n",
    "    sequence = np.array(sequence)\n",
    "    preds = np.argmax(model.predict(sequence))\n",
    "    #print(preds)\n",
    "    predicted_word = \"\"\n",
    "    for key,value in tokenizer.word_index.items():\n",
    "        if value == preds:\n",
    "            predicted_word = key\n",
    "            break\n",
    "    print(predicted_word)\n",
    "    return predicted_word\n"
   ]
  },
  {
   "cell_type": "code",
   "execution_count": 6,
   "id": "efc24970",
   "metadata": {},
   "outputs": [
    {
     "name": "stdout",
     "output_type": "stream",
     "text": [
      "Enter your line: collection of\n",
      "speaking\n",
      "Enter your line: housed in a\n",
      "horrible\n",
      "Enter your line: divided by arches\n",
      "stiff\n",
      "Enter your line:  collection of textile\n",
      "samples\n",
      "Enter your line: sleep a little\n",
      "arm\n",
      "Enter your line: a little too\n",
      "though\n",
      "Enter your line: pitifully thin\n",
      "compared\n",
      "Enter your line: Samsa was a travelling\n",
      "salesman\n",
      "Enter your line: always rolled\n",
      "back\n",
      "Enter your line: funny sort of\n",
      "speaking\n",
      "Enter your line: at the alarm\n",
      "clock\n",
      "Enter your line: 0\n",
      "Ending The Program.....\n"
     ]
    }
   ],
   "source": [
    "\"\"\"\n",
    "    We are testing our model and we will run the model\n",
    "    until the user decides to stop the script.\n",
    "    While the script is running we try and check if \n",
    "    the prediction can be made on the text. If no\n",
    "    prediction can be made we just continue.\n",
    "\n",
    "\"\"\"\n",
    "\n",
    "# text1 = \"at the dull\"\n",
    "# text2 = \"collection of textile\"\n",
    "# text3 = \"what a strenuous\"\n",
    "# text4 = \"stop the script\"\n",
    "\n",
    "while(True):\n",
    "\n",
    "    text = input(\"Enter your line: \")\n",
    "    \n",
    "    if text == \"0\":\n",
    "        print(\"Ending The Program.....\")\n",
    "        break\n",
    "    \n",
    "    else:\n",
    "        try:\n",
    "            text = text.split(\" \")\n",
    "            text = text[-1]\n",
    "            #print(text)\n",
    "            text = ''.join(text)\n",
    "            Predict_Next_Words(model, tokenizer, text)\n",
    "            \n",
    "        except Exception as e:\n",
    "            print(\"Error occurred: \",e)\n",
    "            continue\n",
    "\n",
    "            "
   ]
  },
  {
   "cell_type": "code",
   "execution_count": null,
   "id": "bee150e5",
   "metadata": {},
   "outputs": [],
   "source": []
  },
  {
   "cell_type": "code",
   "execution_count": null,
   "id": "298ad084",
   "metadata": {},
   "outputs": [],
   "source": []
  }
 ],
 "metadata": {
  "kernelspec": {
   "display_name": "Python 3",
   "language": "python",
   "name": "python3"
  },
  "language_info": {
   "codemirror_mode": {
    "name": "ipython",
    "version": 3
   },
   "file_extension": ".py",
   "mimetype": "text/x-python",
   "name": "python",
   "nbconvert_exporter": "python",
   "pygments_lexer": "ipython3",
   "version": "3.8.8"
  }
 },
 "nbformat": 4,
 "nbformat_minor": 5
}
